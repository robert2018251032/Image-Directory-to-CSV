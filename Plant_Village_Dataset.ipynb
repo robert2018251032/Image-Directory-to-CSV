{
  "nbformat": 4,
  "nbformat_minor": 0,
  "metadata": {
    "colab": {
      "name": "Plant Village Dataset.ipynb",
      "provenance": [],
      "collapsed_sections": [],
      "authorship_tag": "ABX9TyMxoL004CykQm+rzCFa3j81",
      "include_colab_link": true
    },
    "kernelspec": {
      "name": "python3",
      "display_name": "Python 3"
    },
    "language_info": {
      "name": "python"
    }
  },
  "cells": [
    {
      "cell_type": "markdown",
      "metadata": {
        "id": "view-in-github",
        "colab_type": "text"
      },
      "source": [
        "<a href=\"https://colab.research.google.com/github/robert2018251032/Image-Directory-to-CSV/blob/master/Plant_Village_Dataset.ipynb\" target=\"_parent\"><img src=\"https://colab.research.google.com/assets/colab-badge.svg\" alt=\"Open In Colab\"/></a>"
      ]
    },
    {
      "cell_type": "code",
      "metadata": {
        "id": "2-FVMUn8oVHx"
      },
      "source": [
        "#!git clone https://github.com/spMohanty/PlantVillage-Dataset\n"
      ],
      "execution_count": 8,
      "outputs": []
    },
    {
      "cell_type": "code",
      "metadata": {
        "id": "IjUprEoHoXkj"
      },
      "source": [
        "#%cd PlantVillage-Dataset"
      ],
      "execution_count": 9,
      "outputs": []
    },
    {
      "cell_type": "code",
      "metadata": {
        "id": "7pJUdO73oXnY"
      },
      "source": [
        "\n",
        "import warnings\n",
        "warnings.filterwarnings(\"ignore\")\n",
        "import os\n",
        "import glob\n",
        "import matplotlib.pyplot as plt\n",
        "import keras\n",
        "from keras.models import Sequential\n",
        "from keras.layers import Dense,Dropout,Flatten\n",
        "from keras.layers import Conv2D,MaxPooling2D,Activation,AveragePooling2D,BatchNormalization\n",
        "from keras.preprocessing.image import ImageDataGenerator"
      ],
      "execution_count": 10,
      "outputs": []
    },
    {
      "cell_type": "code",
      "metadata": {
        "id": "nbJWuP1joXqJ"
      },
      "source": [
        "train_dir =\"data/train/\"\n",
        "test_dir=\"data/test/\""
      ],
      "execution_count": 11,
      "outputs": []
    },
    {
      "cell_type": "code",
      "metadata": {
        "id": "Pl9pwOLjoXsx"
      },
      "source": [
        "def get_files(directory):\n",
        "  if not os.path.exists(directory):\n",
        "    return 0\n",
        "  count=0\n",
        "  for current_path,dirs,files in os.walk(directory):\n",
        "    for dr in dirs:\n",
        "      count+= len(glob.glob(os.path.join(current_path,dr+\"/*\")))\n",
        "  return count"
      ],
      "execution_count": 12,
      "outputs": []
    },
    {
      "cell_type": "code",
      "metadata": {
        "colab": {
          "base_uri": "https://localhost:8080/"
        },
        "id": "VCCr4SKzpwTv",
        "outputId": "1b371b38-7683-49e3-dc7d-3c321c209297"
      },
      "source": [
        "train_samples =get_files(train_dir)\n",
        "num_classes=len(glob.glob(train_dir+\"/*\"))\n",
        "test_samples=get_files(test_dir) \n",
        "print(num_classes,\"Classes\")\n",
        "print(train_samples,\"Train images\")\n",
        "print(test_samples,\"Test images\")"
      ],
      "execution_count": 14,
      "outputs": [
        {
          "output_type": "stream",
          "text": [
            "0 Classes\n",
            "0 Train images\n",
            "0 Test images\n"
          ],
          "name": "stdout"
        }
      ]
    },
    {
      "cell_type": "code",
      "metadata": {
        "id": "i613u9nLpwWu"
      },
      "source": [
        "\n",
        "train_datagen=ImageDataGenerator(rescale=1./255,\n",
        "                                   shear_range=0.2,\n",
        "                                   zoom_range=0.2,\n",
        "                                   validation_split=0.2,\n",
        "                                   horizontal_flip=True)\n",
        "test_datagen=ImageDataGenerator(rescale=1./255)"
      ],
      "execution_count": 15,
      "outputs": []
    },
    {
      "cell_type": "code",
      "metadata": {
        "id": "TF3gcit5pwaA"
      },
      "source": [
        "img_width,img_height =256,256\n",
        "input_shape=(img_width,img_height,3)\n",
        "batch_size =32\n",
        "train_generator =train_datagen.flow_from_directory(train_dir,\n",
        "                                                   target_size=(img_width,img_height),\n",
        "                                                   batch_size=batch_size)\n",
        "test_generator=test_datagen.flow_from_directory(test_dir,shuffle=True,\n",
        "                                                   target_size=(img_width,img_height),\n",
        "                                                   batch_size=batch_size)"
      ],
      "execution_count": null,
      "outputs": []
    },
    {
      "cell_type": "code",
      "metadata": {
        "id": "MyIG7SW6pwdH"
      },
      "source": [
        "from keras.applications import ResNet50\n",
        "from keras.optimizers import Adam\n",
        "resnet = ResNet50(weights='imagenet', include_top=False, input_shape=(256, 256, 3))\n",
        "\n",
        "for layer in resnet.layers[:-4]:\n",
        "    layer.trainable = False\n",
        "\n",
        "def nvidia_model():\n",
        "  model = Sequential()\n",
        "  model.add(resnet)\n",
        "\n",
        "  model.add(Dropout(0.5))\n",
        "  \n",
        "  model.add(Flatten())\n",
        "  \n",
        "  model.add(Dense(100, activation='elu'))\n",
        "  model.add(Dropout(0.5))\n",
        "  \n",
        "  model.add(Dense(50, activation='elu'))\n",
        "  model.add(Dropout(0.5))\n",
        "  \n",
        "  model.add(Dense(10, activation='elu'))\n",
        "  model.add(Dropout(0.5))\n",
        "  \n",
        "  model.add(Dense(38))\n",
        "  \n",
        "  optimizer = Adam(lr=1e-3)\n",
        "  model.compile(loss='categorical_crossentropy', optimizer=optimizer, metrics=['accuracy'])\n",
        "  return model\n",
        "\n",
        "model = nvidia_model()\n",
        "print(model.summary())"
      ],
      "execution_count": null,
      "outputs": []
    },
    {
      "cell_type": "code",
      "metadata": {
        "id": "fiAlPw6qoXvY"
      },
      "source": [
        "model_layers = [ layer.name for layer in model.layers]\n",
        "print('layer name : ',model_layers)"
      ],
      "execution_count": null,
      "outputs": []
    },
    {
      "cell_type": "code",
      "metadata": {
        "id": "BtrZCnucrOs_"
      },
      "source": [
        "\n",
        "from keras.preprocessing import image\n",
        "import numpy as np\n",
        "img1 = image.load_img('data/train/12/049c8615-7d94-4a4b-8467-fe20c0cecac1.JPG')\n",
        "plt.imshow(img1);\n",
        "img1 = image.load_img('data/test/13/00d8329b-6621-4e08-8ec5-cf702eb3b205.JPG', target_size=(256, 256))\n",
        "img = image.img_to_array(img1)\n",
        "img = img/255\n",
        "img = np.expand_dims(img, axis=0)"
      ],
      "execution_count": null,
      "outputs": []
    },
    {
      "cell_type": "code",
      "metadata": {
        "id": "IRCr73UcrOv6"
      },
      "source": [
        "from keras.models import Model\n",
        "conv2d_1_output = Model(inputs=model.input, outputs=model.get_layer('conv2d_7').output)\n",
        "max_pooling2d_1_output = Model(inputs=model.input,outputs=model.get_layer('max_pooling2d_7').output)\n",
        "conv2d_2_output = Model(inputs=model.input,outputs=model.get_layer('conv2d_8').output)\n",
        "max_pooling2d_2_output = Model(inputs=model.input,outputs=model.get_layer('max_pooling2d_8').output)\n",
        "conv2d_3_output = Model(inputs=model.input,outputs=model.get_layer('conv2d_9').output)\n",
        "max_pooling2d_3_output = Model(inputs=model.input,outputs=model.get_layer('max_pooling2d_9').output)\n",
        "flatten_1_output = Model(inputs=model.input,outputs=model.get_layer('flatten_3').output)\n",
        "conv2d_1_features = conv2d_1_output.predict(img)\n",
        "max_pooling2d_1_features = max_pooling2d_1_output.predict(img)\n",
        "conv2d_2_features = conv2d_2_output.predict(img)\n",
        "max_pooling2d_2_features = max_pooling2d_2_output.predict(img)\n",
        "conv2d_3_features = conv2d_3_output.predict(img)\n",
        "max_pooling2d_3_features = max_pooling2d_3_output.predict(img)\n",
        "flatten_1_features = flatten_1_output.predict(img)"
      ],
      "execution_count": null,
      "outputs": []
    },
    {
      "cell_type": "code",
      "metadata": {
        "id": "ug50jQwjrOzT"
      },
      "source": [
        "import matplotlib.image as mpimg\n",
        "fig=plt.figure(figsize=(14,7))\n",
        "columns = 8\n",
        "rows = 4\n",
        "for i in range(columns*rows):\n",
        "    fig.add_subplot(rows, columns, i+1)\n",
        "    plt.axis('off')\n",
        "    plt.title('filter'+str(i))\n",
        "    plt.imshow(conv2d_1_features[0, :, :, i], cmap='viridis')\n",
        "plt.show()"
      ],
      "execution_count": null,
      "outputs": []
    },
    {
      "cell_type": "code",
      "metadata": {
        "id": "i6nTRnjQrO2J"
      },
      "source": [
        "import matplotlib.image as mpimg\n",
        "fig=plt.figure(figsize=(14,7))\n",
        "columns = 8\n",
        "rows = 4\n",
        "for i in range(columns*rows):\n",
        "    fig.add_subplot(rows, columns, i+1)\n",
        "    plt.axis('off')\n",
        "    plt.title('filter'+str(i))\n",
        "    plt.imshow(max_pooling2d_1_features[0, :, :, i], cmap='viridis')\n",
        "plt.show()"
      ],
      "execution_count": null,
      "outputs": []
    },
    {
      "cell_type": "code",
      "metadata": {
        "id": "ceKTAqYprO5f"
      },
      "source": [
        "import matplotlib.image as mpimg\n",
        "fig=plt.figure(figsize=(14,7))\n",
        "columns = 8\n",
        "rows = 4\n",
        "for i in range(columns*rows):\n",
        "    fig.add_subplot(rows, columns, i+1)\n",
        "    plt.axis('off')\n",
        "    plt.title('filter'+str(i))\n",
        "    plt.imshow(conv2d_2_features[0, :, :, i], cmap='viridis')\n",
        "plt.show()"
      ],
      "execution_count": null,
      "outputs": []
    },
    {
      "cell_type": "code",
      "metadata": {
        "id": "TAXJv7RqrO8P"
      },
      "source": [
        "import matplotlib.image as mpimg\n",
        "fig=plt.figure(figsize=(14,7))\n",
        "columns = 8\n",
        "rows = 4\n",
        "for i in range(columns*rows):\n",
        "    fig.add_subplot(rows, columns, i+1)\n",
        "    plt.axis('off')\n",
        "    plt.title('filter'+str(i))\n",
        "    plt.imshow(max_pooling2d_2_features[0, :, :, i], cmap='viridis')\n",
        "plt.show()"
      ],
      "execution_count": null,
      "outputs": []
    },
    {
      "cell_type": "code",
      "metadata": {
        "id": "qPmxbUxnrO_X"
      },
      "source": [
        "import matplotlib.image as mpimg\n",
        "fig=plt.figure(figsize=(14,7))\n",
        "columns = 8\n",
        "rows = 4\n",
        "for i in range(columns*rows):\n",
        "    fig.add_subplot(rows, columns, i+1)\n",
        "    plt.axis('off')\n",
        "    plt.title('filter'+str(i))\n",
        "    plt.imshow(conv2d_3_features[0, :, :, i], cmap='viridis')\n",
        "plt.show()"
      ],
      "execution_count": null,
      "outputs": []
    },
    {
      "cell_type": "code",
      "metadata": {
        "id": "CpeJZq-MriQO"
      },
      "source": [
        "import matplotlib.image as mpimg\n",
        "fig=plt.figure(figsize=(14,7))\n",
        "columns = 8\n",
        "rows = 4\n",
        "for i in range(columns*rows):\n",
        "    fig.add_subplot(rows, columns, i+1)\n",
        "    plt.axis('off')\n",
        "    plt.title('filter'+str(i))\n",
        "    plt.imshow(max_pooling2d_3_features[0, :, :, i], cmap='viridis')\n",
        "plt.show()"
      ],
      "execution_count": null,
      "outputs": []
    },
    {
      "cell_type": "code",
      "metadata": {
        "id": "5lcKyOhVriTR"
      },
      "source": [
        "validation_generator = train_datagen.flow_from_directory(\n",
        "    train_dir, \n",
        "    target_size=(img_height, img_width),\n",
        "    batch_size=batch_size)"
      ],
      "execution_count": null,
      "outputs": []
    },
    {
      "cell_type": "code",
      "metadata": {
        "id": "SxqAm9EDriWK"
      },
      "source": [
        "opt=keras.optimizers.Adam(lr=0.001)\n",
        "model.compile(optimizer=opt,loss='categorical_crossentropy',metrics=['accuracy'])\n",
        "train=model.fit_generator(train_generator,\n",
        "                          nb_epoch=30,\n",
        "                          steps_per_epoch=train_generator.samples // batch_size,\n",
        "                          validation_data=validation_generator,\n",
        "                          nb_val_samples= validation_generator.samples// batch_size,verbose=1)"
      ],
      "execution_count": null,
      "outputs": []
    },
    {
      "cell_type": "code",
      "metadata": {
        "id": "B3cwuKsxriZA"
      },
      "source": [
        "acc = train.history['acc']\n",
        "val_acc = train.history['val_acc']\n",
        "loss = train.history['loss']\n",
        "val_loss = train.history['val_loss']\n",
        "epochs = range(1, len(acc) + 1)\n",
        "plt.plot(epochs, acc, 'b', label='Training accurarcy')\n",
        "plt.plot(epochs, val_acc, 'r', label='Validation accurarcy')\n",
        "plt.title('Training and Validation accurarcy')\n",
        "plt.legend()\n",
        "\n",
        "plt.figure()\n",
        "plt.plot(epochs, loss, 'b', label='Training loss')\n",
        "plt.plot(epochs, val_loss, 'r', label='Validation loss')\n",
        "plt.title('Training and Validation loss')\n",
        "plt.legend()\n",
        "plt.show()"
      ],
      "execution_count": null,
      "outputs": []
    },
    {
      "cell_type": "code",
      "metadata": {
        "id": "bzs_gMUorPDf"
      },
      "source": [
        ""
      ],
      "execution_count": null,
      "outputs": []
    }
  ]
}